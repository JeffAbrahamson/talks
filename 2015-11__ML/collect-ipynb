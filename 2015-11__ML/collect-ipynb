#!/bin/bash

notebook_dir=/tmp/ml-week-ipynb
if [ ! -d $notebook_dir ]; then
    mkdir $notebook_dir;
fi
for f in $(find . -name '*ipynb' | grep -v venv | grep -v .ipynb_checkpoints); do
    cp $f $notebook_dir/$(dirname $f)_$(basename $f)
done
cp 01b-pandas/*csv $notebook_dir/
