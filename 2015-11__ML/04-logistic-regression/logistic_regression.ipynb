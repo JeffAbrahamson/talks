{
 "metadata": {
  "name": "",
  "signature": "sha256:a4ab5abc8779a9b41bd59487425a3b0ac67205ff813b94170e7992841c2b1e4f"
 },
 "nbformat": 3,
 "nbformat_minor": 0,
 "worksheets": [
  {
   "cells": [
    {
     "cell_type": "code",
     "collapsed": false,
     "input": [
      "import numpy as np\n",
      "import pandas as pd\n",
      "import matplotlib.pyplot as plt\n",
      "from matplotlib.colors import ListedColormap\n",
      "import sklearn as sk\n",
      "from sklearn.feature_extraction.text import TfidfVectorizer\n",
      "from sklearn.linear_model.logistic import LogisticRegression\n",
      "\n",
      "%matplotlib inline"
     ],
     "language": "python",
     "metadata": {},
     "outputs": [],
     "prompt_number": 14
    },
    {
     "cell_type": "code",
     "collapsed": false,
     "input": [
      "rouge = [[1,4], [2,3], [3,2], [4,1], [2,4], [3,3], [4,2] ]\n",
      "bleu = [[1,2], [2,1], [3,0], [4,-1], [1,1], [2,0], [2,-1]]"
     ],
     "language": "python",
     "metadata": {},
     "outputs": [],
     "prompt_number": 3
    },
    {
     "cell_type": "code",
     "collapsed": false,
     "input": [
      "plt.scatter([x for x,y in rouge], [y for x,y in rouge], color='red')\n",
      "plt.scatter([x for x,y in bleu], [y for x,y in bleu], color='blue')"
     ],
     "language": "python",
     "metadata": {},
     "outputs": [
      {
       "metadata": {},
       "output_type": "pyout",
       "prompt_number": 4,
       "text": [
        "<matplotlib.collections.PathCollection at 0x7fc408b14610>"
       ]
      },
      {
       "metadata": {},
       "output_type": "display_data",
       "png": "[encoded data removed]",
       "text": [
        "<matplotlib.figure.Figure at 0x7fc408b7d7d0>"
       ]
      }
     ],
     "prompt_number": 4
    },
    {
     "cell_type": "code",
     "collapsed": false,
     "input": [
      "# Inspired by https://stackoverflow.com/questions/20045994/how-do-i-plot-the-decision-boundary-of-a-regression-using-matplotlib\n",
      "\n",
      "#### FIX THIS, IT'S WRONG. ####\n",
      "\n",
      "X = np.array(rouge + bleu)\n",
      "y = [1] * len(rouge) + [0] * len(bleu)\n",
      "\n",
      "logreg = LogisticRegression()\n",
      "logreg.fit(X, y)\n",
      "\n",
      "# evenly sampled points\n",
      "x_min, x_max = X[:, 0].min() - .5, X[:, 0].max() + .5\n",
      "y_min, y_max = X[:, 1].min() - .5, X[:, 1].max() + .5\n",
      "xx, yy = np.meshgrid(np.linspace(x_min, x_max, 50),\n",
      "                     np.linspace(y_min, y_max, 50))\n",
      "plt.xlim(xx.min(), xx.max())\n",
      "plt.ylim(yy.min(), yy.max())\n",
      "\n",
      "#plot background colors\n",
      "ax = plt.gca()\n",
      "Z = logreg.predict_proba(np.c_[xx.ravel(), yy.ravel()])[:, 1]\n",
      "Z = Z.reshape(xx.shape)\n",
      "cs = ax.contourf(xx, yy, Z, cmap='RdBu', alpha=.5)\n",
      "cs2 = ax.contour(xx, yy, Z, cmap='RdBu', alpha=.5)\n",
      "plt.clabel(cs2, fmt = '%2.1f', colors = 'k', fontsize=14)\n",
      "\n",
      "ax.plot(np.array(rouge), 'ro', label='Rouge')\n",
      "ax.plot(np.array(bleu), 'bx', label='Bleu')\n",
      "plt.legend(loc='upper left', scatterpoints=1, numpoints=1)\n",
      "\n"
     ],
     "language": "python",
     "metadata": {},
     "outputs": [
      {
       "metadata": {},
       "output_type": "pyout",
       "prompt_number": 35,
       "text": [
        "<matplotlib.legend.Legend at 0x7f083f867e50>"
       ]
      },
      {
       "metadata": {},
       "output_type": "display_data",
       "png": "[encoded data removed]",
       "text": [
        "<matplotlib.figure.Figure at 0x7f083fb0f7d0>"
       ]
      }
     ],
     "prompt_number": 35
    },
    {
     "cell_type": "code",
     "collapsed": false,
     "input": [],
     "language": "python",
     "metadata": {},
     "outputs": [],
     "prompt_number": 28
    },
    {
     "cell_type": "markdown",
     "metadata": {},
     "source": [
      "# Un exemple plus approfondi\n",
      "\n",
      "Exercices\n",
      "* Jouez avec le code pour comprendre la forme de chaque variable.\n",
      "* D\u00e9couvrez le sens de \"target\"."
     ]
    },
    {
     "cell_type": "code",
     "collapsed": false,
     "input": [
      "# Code source: Ga\u00ebl Varoquaux\n",
      "# Modified for documentation by Jaques Grobler\n",
      "# License: BSD 3 clause\n",
      "\n",
      "import numpy as np\n",
      "import matplotlib.pyplot as plt\n",
      "from sklearn import linear_model, datasets\n",
      "\n",
      "# import some data to play with\n",
      "iris = datasets.load_iris()\n",
      "X = iris.data[:, :2]  # we only take the first two features.\n",
      "Y = iris.target\n",
      "\n",
      "h = .02  # step size in the mesh\n",
      "\n",
      "logreg = linear_model.LogisticRegression(C=1e5)\n",
      "\n",
      "# we create an instance of Neighbours Classifier and fit the data.\n",
      "logreg.fit(X, Y)\n",
      "\n",
      "# Plot the decision boundary. For that, we will assign a color to each\n",
      "# point in the mesh [x_min, m_max]x[y_min, y_max].\n",
      "x_min, x_max = X[:, 0].min() - .5, X[:, 0].max() + .5\n",
      "y_min, y_max = X[:, 1].min() - .5, X[:, 1].max() + .5\n",
      "xx, yy = np.meshgrid(np.arange(x_min, x_max, h), np.arange(y_min, y_max, h))\n",
      "Z = logreg.predict(np.c_[xx.ravel(), yy.ravel()])\n",
      "\n",
      "# Put the result into a color plot\n",
      "Z = Z.reshape(xx.shape)\n",
      "plt.figure(1, figsize=(4, 3))\n",
      "plt.pcolormesh(xx, yy, Z, cmap=plt.cm.Paired)\n",
      "\n",
      "# Plot also the training points\n",
      "plt.scatter(X[:, 0], X[:, 1], c=Y, edgecolors='k', cmap=plt.cm.Paired)\n",
      "plt.xlabel('Sepal length')\n",
      "plt.ylabel('Sepal width')\n",
      "\n",
      "plt.xlim(xx.min(), xx.max())\n",
      "plt.ylim(yy.min(), yy.max())\n",
      "plt.xticks(())\n",
      "plt.yticks(())\n",
      "\n",
      "plt.show()"
     ],
     "language": "python",
     "metadata": {},
     "outputs": [
      {
       "metadata": {},
       "output_type": "display_data",
       "png": "[encoded data removed]",
       "text": [
        "<matplotlib.figure.Figure at 0x7fc4085bf110>"
       ]
      }
     ],
     "prompt_number": 5
    },
    {
     "cell_type": "markdown",
     "metadata": {},
     "source": [
      "# D\u00e9tection de spam avec la r\u00e9gression logistique\n",
      "\n",
      "Il faut t\u00e9l\u00e9charger le corpus de spam [ici](http://archive.ics.uci.edu/ml/datasets/SMS+Spam+Collection).  Unzippez-le dans le r\u00e9pertoire `spam-corpus`."
     ]
    },
    {
     "cell_type": "code",
     "collapsed": false,
     "input": [
      "df = pd.read_csv('spam-corpus/SMSSpamCollection', delimiter='\\t', header=None)\n",
      "print(df.head())\n",
      "print('\\n')\n",
      "print('Number of spam messages: {n}'.format(n=df[df[0] == 'spam'][0].count()))\n",
      "print('Number of ham messages: {n}'.format(n=df[df[0] == 'ham'][0].count()))"
     ],
     "language": "python",
     "metadata": {},
     "outputs": [
      {
       "output_type": "stream",
       "stream": "stdout",
       "text": [
        "      0                                                  1\n",
        "0   ham  Go until jurong point, crazy.. Available only ...\n",
        "1   ham                      Ok lar... Joking wif u oni...\n",
        "2  spam  Free entry in 2 a wkly comp to win FA Cup fina...\n",
        "3   ham  U dun say so early hor... U c already then say...\n",
        "4   ham  Nah I don't think he goes to usf, he lives aro...\n",
        "\n",
        "\n",
        "Number of spam messages: 747\n",
        "Number of ham messages: 4825\n"
       ]
      }
     ],
     "prompt_number": 10
    },
    {
     "cell_type": "markdown",
     "metadata": {},
     "source": [
      "Il nous faut d'abord des crit\u00e8res (features).  Puis nous allons utiliser TF-IDF pour trouver les mots les plus repr\u00e9sentatifs des sms spam et ham.\n",
      "\n",
      "* Explorez les training data et test data, cru et cuit.\n",
      "* Pourquoi disons-nous `fit_transform()` pour les _training data_, mais `transform()` pour les _test data_?"
     ]
    },
    {
     "cell_type": "code",
     "collapsed": false,
     "input": [
      "from sklearn.cross_validation import train_test_split, cross_val_score\n",
      "\n",
      "X_train_raw, X_test_raw, y_train, y_test = train_test_split(df[1], df[0])\n",
      "vectorizer = TfidfVectorizer()\n",
      "X_train = vectorizer.fit_transform(X_train_raw)\n",
      "X_test = vectorizer.transform(X_test_raw)"
     ],
     "language": "python",
     "metadata": {},
     "outputs": [],
     "prompt_number": 69
    },
    {
     "cell_type": "markdown",
     "metadata": {},
     "source": [
      "Enfin, nous cr\u00e9eons un classifieur par r\u00e9gression logistique.  Comme tout classifieur en scikit-learn, il nous propose `fit()` et `predict()`.  Il faut toujours visualiser nos donn\u00e9es et nos r\u00e9sultats, ce que nous faisons."
     ]
    },
    {
     "cell_type": "code",
     "collapsed": false,
     "input": [
      "classifier = LogisticRegression()\n",
      "classifier.fit(X_train, y_train)\n",
      "predictions = classifier.predict(X_test)\n",
      "for i, prediction in enumerate(predictions[:5]):\n",
      "    print('Prediction: {pred}.\\nMessage: {msg}\\n'.format(\n",
      "           pred=prediction, msg=X_test_raw[i]))"
     ],
     "language": "python",
     "metadata": {},
     "outputs": [
      {
       "output_type": "stream",
       "stream": "stdout",
       "text": [
        "Prediction: ham.\n",
        "Message: Oh you got many responsibilities.\n",
        "\n",
        "Prediction: ham.\n",
        "Message: Ok... Take ur time n enjoy ur dinner...\n",
        "\n",
        "Prediction: ham.\n",
        "Message: First answer my question.\n",
        "\n",
        "Prediction: ham.\n",
        "Message: accordingly. I repeat, just text the word ok on your mobile phone and send\n",
        "\n",
        "Prediction: ham.\n",
        "Message: Aiyah u did ok already lar. E nydc at wheellock?\n",
        "\n"
       ]
      }
     ],
     "prompt_number": 70
    },
    {
     "cell_type": "markdown",
     "metadata": {},
     "source": [
      "# M\u00e9triques de performance\n",
      "\n",
      "OK, nous avons classifi\u00e9 les messages, mais avec quel taux de pr\u00e9cision?"
     ]
    },
    {
     "cell_type": "code",
     "collapsed": false,
     "input": [
      "from sklearn.metrics import confusion_matrix\n",
      "\n",
      "yy_test = [0, 0, 0, 0, 0, 1, 1, 1, 1, 1]\n",
      "yy_pred = [0, 1, 0, 0, 0, 0, 0, 1, 1, 1]\n",
      "confusion = confusion_matrix(yy_test, yy_pred)\n",
      "print(confusion)\n",
      "plt.matshow(confusion)\n",
      "plt.title('Confusion matrix')\n",
      "plt.gray()\n",
      "plt.ylabel('True label')\n",
      "plt.xlabel('Predicted label')\n",
      "plt.show()\n",
      "\n",
      "# Ou si on voudrait que le noir nous montre les plus communs :\n",
      "invert_colors = np.ones(confusion.shape) * confusion.max()\n",
      "plt.matshow(invert_colors - confusion)\n",
      "plt.title('Confusion matrix')\n",
      "plt.gray()\n",
      "plt.ylabel('True label')\n",
      "plt.xlabel('Predicted label')\n",
      "plt.show()"
     ],
     "language": "python",
     "metadata": {},
     "outputs": [
      {
       "output_type": "stream",
       "stream": "stdout",
       "text": [
        "[[4 1]\n",
        " [2 3]]\n"
       ]
      },
      {
       "metadata": {},
       "output_type": "display_data",
       "png": "[encoded data removed]",
       "text": [
        "<matplotlib.figure.Figure at 0x7fc401b60e10>"
       ]
      },
      {
       "metadata": {},
       "output_type": "display_data",
       "png": "[encoded data removed]",
       "text": [
        "<matplotlib.figure.Figure at 0x7fc401a2d0d0>"
       ]
      }
     ],
     "prompt_number": 68
    },
    {
     "cell_type": "markdown",
     "metadata": {},
     "source": [
      "# Exercice\n",
      "\n",
      "* Qu'est-ce qui la matrice de confusion pour notre classifieur de spam?"
     ]
    },
    {
     "cell_type": "code",
     "collapsed": false,
     "input": [],
     "language": "python",
     "metadata": {},
     "outputs": [],
     "prompt_number": 74
    },
    {
     "cell_type": "markdown",
     "metadata": {},
     "source": [
      "# Cross validation"
     ]
    },
    {
     "cell_type": "code",
     "collapsed": false,
     "input": [
      "good_scores = cross_val_score(classifier, X_train, y_train, cv=5)\n",
      "random_X_train = np.random.rand(X_train.shape[0], X_train.shape[1])\n",
      "bad_scores = cross_val_score(classifier, random_X_train, y_train, cv=5)\n",
      "print(good_scores)\n",
      "print(bad_scores)"
     ],
     "language": "python",
     "metadata": {},
     "outputs": [
      {
       "output_type": "stream",
       "stream": "stdout",
       "text": [
        "[ 0.95937873  0.96052632  0.96052632  0.94491018  0.94491018]\n",
        "[ 0.84229391  0.84569378  0.84808612  0.84670659  0.84670659]\n"
       ]
      }
     ],
     "prompt_number": 77
    }
   ],
   "metadata": {}
  }
 ]
}