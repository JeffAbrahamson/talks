{
 "cells": [
  {
   "cell_type": "markdown",
   "metadata": {},
   "source": [
    "# Scikit Learn et données\n",
    "\n",
    "Scikit-learn propose quelques ensembles de données, notamment [iris](http://en.wikipedia.org/wiki/Iris_flower_data_set) et [digits](http://archive.ics.uci.edu/ml/datasets/Pen-Based+Recognition+of+Handwritten+Digits) (classification) et le [boston house prices dataset](http://archive.ics.uci.edu/ml/datasets/Housing) (regression).\n",
    "\n",
    "Exercice : en trouvez d'autres..."
   ]
  },
  {
   "cell_type": "code",
   "execution_count": 1,
   "metadata": {
    "collapsed": true
   },
   "outputs": [],
   "source": [
    "import numpy as np\n",
    "from sklearn import datasets\n",
    "\n",
    "iris = datasets.load_iris()\n",
    "digits = datasets.load_digits()\n",
    "boston = datasets.load_boston()"
   ]
  },
  {
   "cell_type": "markdown",
   "metadata": {},
   "source": [
    "Un dataset ressemble à un `dict`.  Explorez les membres suivants (e.g., `iris.DESCR`) :\n",
    "* `data`\n",
    "* `target`\n",
    "* `feature_names`\n",
    "* `DESCR`\n"
   ]
  },
  {
   "cell_type": "code",
   "execution_count": null,
   "metadata": {
    "collapsed": false
   },
   "outputs": [],
   "source": []
  },
  {
   "cell_type": "markdown",
   "metadata": {},
   "source": [
    "En anglais (pour correspondre aux noms des fonctions) : \"We fit an estimator to the data to predict the classes to which unseen samples belong\".  Donc, un `estimator` implemente les méthode `fit(X, y)` et `predit(T)`.\n",
    "\n",
    "Le constructeur d'un estimateur accepte les paramètes du modèle.\n",
    "Il est également possible de changer les paramètes après création."
   ]
  },
  {
   "cell_type": "code",
   "execution_count": 2,
   "metadata": {
    "collapsed": false
   },
   "outputs": [
    {
     "name": "stdout",
     "output_type": "stream",
     "text": [
      "0.002\n",
      "0.001\n"
     ]
    },
    {
     "data": {
      "text/plain": [
       "array([8])"
      ]
     },
     "execution_count": 2,
     "metadata": {},
     "output_type": "execute_result"
    }
   ],
   "source": [
    "from sklearn import svm\n",
    "\n",
    "model = svm.SVC(gamma=0.002, C=100.)\n",
    "print(model.gamma)\n",
    "model.set_params(gamma=.001)\n",
    "print(model.gamma)\n",
    "model.fit(digits.data[:-1], digits.target[:-1])\n",
    "model.predict(digits.data[-1])"
   ]
  },
  {
   "cell_type": "markdown",
   "metadata": {},
   "source": [
    "Nous pouvons regarder l'image.\n",
    "\n",
    "* Qu'est-ce qui est l'effet de `cmap`?"
   ]
  },
  {
   "cell_type": "code",
   "execution_count": 3,
   "metadata": {
    "collapsed": false
   },
   "outputs": [
    {
     "data": {
      "text/plain": [
       "<matplotlib.image.AxesImage at 0x7fb8a1498c88>"
      ]
     },
     "execution_count": 3,
     "metadata": {},
     "output_type": "execute_result"
    },
    {
     "data": {
      "image/png": "[encoded data removed]",
      "text/plain": [
       "<matplotlib.figure.Figure at 0x7fb8a5dded68>"
      ]
     },
     "metadata": {},
     "output_type": "display_data"
    }
   ],
   "source": [
    "import pylab as pl\n",
    "%matplotlib inline\n",
    "\n",
    "pl.imshow(digits.images[-1], cmap=pl.cm.gray_r)"
   ]
  },
  {
   "cell_type": "markdown",
   "metadata": {},
   "source": [
    "À savoir (mais pour un autre jour) :\n",
    "* pickle marche\n",
    "* `sklearn.externals.joblib` est parfois plus efficace\n",
    "\n",
    "Un estimator prend un ensemble de données, typiquement un array de dimension 2 (`np.ndarray`, cf. `.shape`)."
   ]
  },
  {
   "cell_type": "markdown",
   "metadata": {
    "collapsed": false
   },
   "source": [
    "Regardons les iris :\n",
    "* Il y a combien de classes d'iris?\n",
    "* Il y a combien de vecteurs dans le training data?\n",
    "* Il y a combien de dimensions?"
   ]
  },
  {
   "cell_type": "code",
   "execution_count": 4,
   "metadata": {
    "collapsed": false
   },
   "outputs": [],
   "source": [
    "iris = datasets.load_iris()\n",
    "iris_X = iris.data\n",
    "iris_y = iris.target"
   ]
  },
  {
   "cell_type": "markdown",
   "metadata": {},
   "source": [
    "Le classifieur le plus simple imagineable s'appelle kNN.  Avec scikit-learn, c'est facile.  (Visualisaton à suivre.)\n",
    "\n",
    "Le nombre de dimensions peut monter très vite, ce qui pose des problèmes pour kNN.\n",
    "* Il y a combien de point sur une lattice espacés de $1/n$ en dimension 1, 2, 3, ..., n ?\n",
    "* Qu'est-ce qui est la distance entre 0 et 1 (les vecteurs des coins opposés) dans $[0,1]^d$?"
   ]
  },
  {
   "cell_type": "code",
   "execution_count": 5,
   "metadata": {
    "collapsed": false
   },
   "outputs": [
    {
     "name": "stdout",
     "output_type": "stream",
     "text": [
      "[1 2 1 0 0 0 2 1 2 0]\n",
      "[1 1 1 0 0 0 2 1 2 0]\n"
     ]
    },
    {
     "data": {
      "text/plain": [
       "0.90000000000000002"
      ]
     },
     "execution_count": 5,
     "metadata": {},
     "output_type": "execute_result"
    }
   ],
   "source": [
    "# Split iris data in train and test data\n",
    "# A random permutation, to split the data randomly\n",
    "np.random.seed(0)\n",
    "indices = np.random.permutation(len(iris_X))\n",
    "iris_X_train = iris_X[indices[:-10]]\n",
    "iris_y_train = iris_y[indices[:-10]]\n",
    "iris_X_test  = iris_X[indices[-10:]]\n",
    "iris_y_test  = iris_y[indices[-10:]]\n",
    "# Create and fit a nearest-neighbor classifier\n",
    "from sklearn.neighbors import KNeighborsClassifier\n",
    "knn = KNeighborsClassifier()\n",
    "knn.fit(iris_X_train, iris_y_train) \n",
    "print(knn.predict(iris_X_test))\n",
    "print(iris_y_test)\n",
    "knn.score(iris_X_test, iris_y_test)"
   ]
  },
  {
   "cell_type": "markdown",
   "metadata": {},
   "source": [
    "La régression logistique est un algorithm important de classification dans l'apprentissage.  Le voilà sur les mêmes données :"
   ]
  },
  {
   "cell_type": "code",
   "execution_count": 6,
   "metadata": {
    "collapsed": false
   },
   "outputs": [
    {
     "name": "stdout",
     "output_type": "stream",
     "text": [
      "[1 2 1 0 0 0 2 1 2 0]\n",
      "[1 1 1 0 0 0 2 1 2 0]\n"
     ]
    },
    {
     "data": {
      "text/plain": [
       "0.90000000000000002"
      ]
     },
     "execution_count": 6,
     "metadata": {},
     "output_type": "execute_result"
    }
   ],
   "source": [
    "from sklearn import linear_model\n",
    "\n",
    "logistic = linear_model.LogisticRegression(C=1e5)\n",
    "logistic.fit(iris_X_train, iris_y_train)\n",
    "print(logistic.predict(iris_X_test))\n",
    "print(iris_y_test)\n",
    "logistic.score(iris_X_test, iris_y_test)"
   ]
  },
  {
   "cell_type": "markdown",
   "metadata": {},
   "source": [
    "Exercice :\n",
    "* Pourquoi sont les scores les mêmes dans les deux exemples précédents?\n",
    "* À quoi sert le score?"
   ]
  },
  {
   "cell_type": "code",
   "execution_count": 7,
   "metadata": {
    "collapsed": false
   },
   "outputs": [
    {
     "name": "stdout",
     "output_type": "stream",
     "text": [
      "[0.90000000000000002, 0.90000000000000002, 1.0, 0.90000000000000002, 1.0, 1.0, 0.69999999999999996, 1.0, 1.0, 1.0]\n"
     ]
    }
   ],
   "source": [
    "scores = []\n",
    "for k in range(10):\n",
    "    indices = np.random.permutation(len(iris_X))\n",
    "    iris_X_train = iris_X[indices[:-10]]\n",
    "    iris_y_train = iris_y[indices[:-10]]\n",
    "    iris_X_test  = iris_X[indices[-10:]]\n",
    "    iris_y_test  = iris_y[indices[-10:]]\n",
    "    \n",
    "    knn = KNeighborsClassifier()\n",
    "    knn.fit(iris_X_train, iris_y_train) \n",
    "    scores.append(knn.score(iris_X_test, iris_y_test))\n",
    "print(scores)"
   ]
  },
  {
   "cell_type": "code",
   "execution_count": 8,
   "metadata": {
    "collapsed": false
   },
   "outputs": [
    {
     "data": {
      "text/plain": [
       "[0.93888888888888888,\n",
       " 0.99444444444444446,\n",
       " 0.93333333333333335,\n",
       " 0.96666666666666667,\n",
       " 0.96111111111111114,\n",
       " 0.98888888888888893,\n",
       " 0.96666666666666667,\n",
       " 0.98882681564245811,\n",
       " 0.93296089385474856,\n",
       " 0.96648044692737434]"
      ]
     },
     "execution_count": 8,
     "metadata": {},
     "output_type": "execute_result"
    }
   ],
   "source": [
    "X_digits = digits.data\n",
    "y_digits = digits.target\n",
    "svc = svm.SVC(C=1, kernel='linear')\n",
    "\n",
    "N = 10\n",
    "X_folds = np.array_split(X_digits, N)\n",
    "y_folds = np.array_split(y_digits, N)\n",
    "scores = list()\n",
    "for k in range(N):\n",
    "     # We use 'list' to copy, in order to 'pop' later on\n",
    "     X_train = list(X_folds)\n",
    "     X_test  = X_train.pop(k)\n",
    "     X_train = np.concatenate(X_train)\n",
    "     y_train = list(y_folds)\n",
    "     y_test  = y_train.pop(k)\n",
    "     y_train = np.concatenate(y_train)\n",
    "     scores.append(svc.fit(X_train, y_train).score(X_test, y_test))\n",
    "scores"
   ]
  },
  {
   "cell_type": "markdown",
   "metadata": {},
   "source": [
    "Ce qu'on vient de faire s'appelle \"cross validation\" (validation croisée).  On peut le faire plus facilement :"
   ]
  },
  {
   "cell_type": "code",
   "execution_count": 9,
   "metadata": {
    "collapsed": false
   },
   "outputs": [
    {
     "name": "stdout",
     "output_type": "stream",
     "text": [
      "Train: [2 3 4 5] | test: [0 1]\n",
      "Train: [0 1 4 5] | test: [2 3]\n",
      "Train: [0 1 2 3] | test: [4 5]\n"
     ]
    }
   ],
   "source": [
    "from sklearn import cross_validation\n",
    "\n",
    "k_fold = cross_validation.KFold(n=6, n_folds=3)\n",
    "for train_indices, test_indices in k_fold:\n",
    "    print('Train: %s | test: %s' % (train_indices, test_indices))"
   ]
  },
  {
   "cell_type": "code",
   "execution_count": 10,
   "metadata": {
    "collapsed": false
   },
   "outputs": [
    {
     "data": {
      "text/plain": [
       "[0.93888888888888888,\n",
       " 0.99444444444444446,\n",
       " 0.93333333333333335,\n",
       " 0.96666666666666667,\n",
       " 0.96111111111111114,\n",
       " 0.98888888888888893,\n",
       " 0.96666666666666667,\n",
       " 0.98882681564245811,\n",
       " 0.93296089385474856,\n",
       " 0.96648044692737434]"
      ]
     },
     "execution_count": 10,
     "metadata": {},
     "output_type": "execute_result"
    }
   ],
   "source": [
    "kfold = cross_validation.KFold(len(X_digits), n_folds=N)\n",
    "[svc.fit(X_digits[train], y_digits[train]).score(\n",
    "        X_digits[test], y_digits[test])\n",
    " for train, test in kfold]"
   ]
  },
  {
   "cell_type": "code",
   "execution_count": 11,
   "metadata": {
    "collapsed": false
   },
   "outputs": [
    {
     "data": {
      "text/plain": [
       "array([ 0.93888889,  0.99444444,  0.93333333,  0.96666667,  0.96111111,\n",
       "        0.98888889,  0.96666667,  0.98882682,  0.93296089,  0.96648045])"
      ]
     },
     "execution_count": 11,
     "metadata": {},
     "output_type": "execute_result"
    }
   ],
   "source": [
    "cross_validation.cross_val_score(\n",
    "    svc, X_digits, y_digits, cv=kfold, n_jobs=-1)"
   ]
  },
  {
   "cell_type": "markdown",
   "metadata": {
    "collapsed": true
   },
   "source": []
  },
  {
   "cell_type": "code",
   "execution_count": null,
   "metadata": {
    "collapsed": true
   },
   "outputs": [],
   "source": []
  },
  {
   "cell_type": "markdown",
   "metadata": {},
   "source": []
  }
 ],
 "metadata": {
  "kernelspec": {
   "display_name": "Python 3",
   "language": "python",
   "name": "python3"
  },
  "language_info": {
   "codemirror_mode": {
    "name": "ipython",
    "version": 3
   },
   "file_extension": ".py",
   "mimetype": "text/x-python",
   "name": "python",
   "nbconvert_exporter": "python",
   "pygments_lexer": "ipython3",
   "version": "3.4.3+"
  }
 },
 "nbformat": 4,
 "nbformat_minor": 0
}
