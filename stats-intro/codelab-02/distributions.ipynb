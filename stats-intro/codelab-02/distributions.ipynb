{
 "metadata": {
  "name": "",
  "signature": "sha256:3d1fb908bc5e8401b8f7b608f877c43f18a6b30b505845d893f2f3b246d683fb"
 },
 "nbformat": 3,
 "nbformat_minor": 0,
 "worksheets": [
  {
   "cells": [
    {
     "cell_type": "code",
     "collapsed": false,
     "input": [
      "%matplotlib inline"
     ],
     "language": "python",
     "metadata": {},
     "outputs": [],
     "prompt_number": 11
    },
    {
     "cell_type": "markdown",
     "metadata": {},
     "source": [
      "#Uniform Distribution"
     ]
    },
    {
     "cell_type": "code",
     "collapsed": false,
     "input": [
      "import scipy.stats as ss\n",
      "import matplotlib.pyplot as plt"
     ],
     "language": "python",
     "metadata": {},
     "outputs": [],
     "prompt_number": 12
    },
    {
     "cell_type": "code",
     "collapsed": false,
     "input": [
      "import numpy as np"
     ],
     "language": "python",
     "metadata": {},
     "outputs": [],
     "prompt_number": 13
    },
    {
     "cell_type": "code",
     "collapsed": false,
     "input": [
      "mean, var, skew, kurt = ss.uniform.stats(moments='mvsk')\n",
      "[mean, var, skew, kurt]"
     ],
     "language": "python",
     "metadata": {},
     "outputs": [
      {
       "metadata": {},
       "output_type": "pyout",
       "prompt_number": 6,
       "text": [
        "[array(0.5), array(0.08333333333333333), array(0.0), array(-1.2)]"
       ]
      }
     ],
     "prompt_number": 6
    },
    {
     "cell_type": "raw",
     "metadata": {},
     "source": []
    },
    {
     "cell_type": "code",
     "collapsed": false,
     "input": [
      "x = np.linspace(ss.uniform.ppf(.01), ss.uniform.ppf(.99), 100)"
     ],
     "language": "python",
     "metadata": {},
     "outputs": [],
     "prompt_number": 10
    },
    {
     "cell_type": "code",
     "collapsed": false,
     "input": [
      "plt.plot(x, ss.uniform.pdf(x))"
     ],
     "language": "python",
     "metadata": {},
     "outputs": [
      {
       "metadata": {},
       "output_type": "pyout",
       "prompt_number": 17,
       "text": [
        "[<matplotlib.lines.Line2D at 0xb0264d2c>]"
       ]
      },
      {
       "metadata": {},
       "output_type": "display_data",
       "png": "[encoded data removed]",
       "text": [
        "<matplotlib.figure.Figure at 0xb03692cc>"
       ]
      }
     ],
     "prompt_number": 17
    },
    {
     "cell_type": "code",
     "collapsed": false,
     "input": [
      "plt.plot(x, ss.uniform.cdf(x))"
     ],
     "language": "python",
     "metadata": {},
     "outputs": [
      {
       "metadata": {},
       "output_type": "pyout",
       "prompt_number": 18,
       "text": [
        "[<matplotlib.lines.Line2D at 0xb021354c>]"
       ]
      },
      {
       "metadata": {},
       "output_type": "display_data",
       "png": "[encoded data removed]",
       "text": [
        "<matplotlib.figure.Figure at 0xb02538ec>"
       ]
      }
     ],
     "prompt_number": 18
    },
    {
     "cell_type": "code",
     "collapsed": false,
     "input": [
      "r = ss.uniform.rvs(size=1000)"
     ],
     "language": "python",
     "metadata": {},
     "outputs": [],
     "prompt_number": 19
    },
    {
     "cell_type": "code",
     "collapsed": false,
     "input": [
      "plt.boxplot(r, vert=False)"
     ],
     "language": "python",
     "metadata": {},
     "outputs": [
      {
       "metadata": {},
       "output_type": "pyout",
       "prompt_number": 22,
       "text": [
        "{'whiskers': [<matplotlib.lines.Line2D at 0xb017aaac>,\n",
        "  <matplotlib.lines.Line2D at 0xb017af0c>],\n",
        " 'fliers': [<matplotlib.lines.Line2D at 0xb0180c8c>,\n",
        "  <matplotlib.lines.Line2D at 0xb018404c>],\n",
        " 'medians': [<matplotlib.lines.Line2D at 0xb0180ecc>],\n",
        " 'caps': [<matplotlib.lines.Line2D at 0xb017e16c>,\n",
        "  <matplotlib.lines.Line2D at 0xb017e92c>],\n",
        " 'boxes': [<matplotlib.lines.Line2D at 0xb018050c>]}"
       ]
      },
      {
       "metadata": {},
       "output_type": "display_data",
       "png": "[encoded data removed]",
       "text": [
        "<matplotlib.figure.Figure at 0xb01ce9ac>"
       ]
      }
     ],
     "prompt_number": 22
    },
    {
     "cell_type": "markdown",
     "metadata": {},
     "source": [
      "#Bernoulli Distribution"
     ]
    },
    {
     "cell_type": "code",
     "collapsed": false,
     "input": [
      "p = .5\n",
      "mean, var, skew, kurt = ss.bernoulli.stats(p, moments='mvsk')\n",
      "[mean, var, skew, kurt]"
     ],
     "language": "python",
     "metadata": {},
     "outputs": [
      {
       "metadata": {},
       "output_type": "pyout",
       "prompt_number": 16,
       "text": [
        "[array(0.5), array(0.25), array(0.0), array(-2.0)]"
       ]
      }
     ],
     "prompt_number": 16
    },
    {
     "cell_type": "code",
     "collapsed": false,
     "input": [
      "x = [0, 1]\n",
      "plt.plot(x, ss.bernoulli.pmf(x, p))"
     ],
     "language": "python",
     "metadata": {},
     "outputs": [
      {
       "metadata": {},
       "output_type": "pyout",
       "prompt_number": 18,
       "text": [
        "[<matplotlib.lines.Line2D at 0xaf3c708c>]"
       ]
      },
      {
       "metadata": {},
       "output_type": "display_data",
       "png": "[encoded data removed]",
       "text": [
        "<matplotlib.figure.Figure at 0xb035cd8c>"
       ]
      }
     ],
     "prompt_number": 18
    },
    {
     "cell_type": "code",
     "collapsed": false,
     "input": [
      "x = np.linspace(0, 1, 100)\n",
      "plt.xlim(-.1, 1.1)\n",
      "plt.ylim(0, 1)\n",
      "plt.plot(x, ss.bernoulli.cdf(x, p))"
     ],
     "language": "python",
     "metadata": {},
     "outputs": [
      {
       "metadata": {},
       "output_type": "pyout",
       "prompt_number": 19,
       "text": [
        "[<matplotlib.lines.Line2D at 0xaf3fc46c>]"
       ]
      },
      {
       "metadata": {},
       "output_type": "display_data",
       "png": "[encoded data removed]",
       "text": [
        "<matplotlib.figure.Figure at 0xaf36536c>"
       ]
      }
     ],
     "prompt_number": 19
    },
    {
     "cell_type": "code",
     "collapsed": false,
     "input": [
      "p = .5\n",
      "mean, var, skew, kurt = ss.geom.stats(p,moments='mvsk')\n",
      "[mean, var, skew, kurt]"
     ],
     "language": "python",
     "metadata": {},
     "outputs": [
      {
       "metadata": {},
       "output_type": "pyout",
       "prompt_number": 20,
       "text": [
        "[array(2.0), array(2.0), array(2.1213203435596424), array(6.5)]"
       ]
      }
     ],
     "prompt_number": 20
    },
    {
     "cell_type": "code",
     "collapsed": false,
     "input": [
      "x = range(10)\n",
      "plt.plot(x, ss.geom.pmf(x, p))"
     ],
     "language": "python",
     "metadata": {},
     "outputs": [
      {
       "metadata": {},
       "output_type": "pyout",
       "prompt_number": 21,
       "text": [
        "[<matplotlib.lines.Line2D at 0xaf27d0ec>]"
       ]
      },
      {
       "metadata": {},
       "output_type": "display_data",
       "png": "[encoded data removed]",
       "text": [
        "<matplotlib.figure.Figure at 0xaf404aac>"
       ]
      }
     ],
     "prompt_number": 21
    },
    {
     "cell_type": "code",
     "collapsed": false,
     "input": [
      "plt.plot(x, ss.geom.cdf(x, p))"
     ],
     "language": "python",
     "metadata": {},
     "outputs": [
      {
       "metadata": {},
       "output_type": "pyout",
       "prompt_number": 22,
       "text": [
        "[<matplotlib.lines.Line2D at 0xaf22d66c>]"
       ]
      },
      {
       "metadata": {},
       "output_type": "display_data",
       "png": "[encoded data removed]",
       "text": [
        "<matplotlib.figure.Figure at 0xaf285fac>"
       ]
      }
     ],
     "prompt_number": 22
    },
    {
     "cell_type": "code",
     "collapsed": false,
     "input": [
      "r = ss.geom.rvs(p, size=1000)\n",
      "plt.boxplot(r, vert=False)"
     ],
     "language": "python",
     "metadata": {},
     "outputs": [
      {
       "metadata": {},
       "output_type": "pyout",
       "prompt_number": 23,
       "text": [
        "{'medians': [<matplotlib.lines.Line2D at 0xaf1e86ec>],\n",
        " 'fliers': [<matplotlib.lines.Line2D at 0xaf1e8e8c>,\n",
        "  <matplotlib.lines.Line2D at 0xaf1e982c>],\n",
        " 'whiskers': [<matplotlib.lines.Line2D at 0xaf1e02cc>,\n",
        "  <matplotlib.lines.Line2D at 0xaf1e0d8c>],\n",
        " 'caps': [<matplotlib.lines.Line2D at 0xaf1e296c>,\n",
        "  <matplotlib.lines.Line2D at 0xaf1e2bcc>],\n",
        " 'boxes': [<matplotlib.lines.Line2D at 0xaf1e4d0c>]}"
       ]
      },
      {
       "metadata": {},
       "output_type": "display_data",
       "png": "[encoded data removed]",
       "text": [
        "<matplotlib.figure.Figure at 0xaf235a6c>"
       ]
      }
     ],
     "prompt_number": 23
    },
    {
     "cell_type": "code",
     "collapsed": false,
     "input": [
      "plt.hist(r, bins=10)"
     ],
     "language": "python",
     "metadata": {},
     "outputs": [
      {
       "metadata": {},
       "output_type": "pyout",
       "prompt_number": 47,
       "text": [
        "(array([ 753.,  136.,   63.,   26.,   11.,    5.,    2.,    2.,    1.,    1.]),\n",
        " array([  1. ,   2.1,   3.2,   4.3,   5.4,   6.5,   7.6,   8.7,   9.8,\n",
        "         10.9,  12. ]),\n",
        " <a list of 10 Patch objects>)"
       ]
      },
      {
       "metadata": {},
       "output_type": "display_data",
       "png": "[encoded data removed]",
       "text": [
        "<matplotlib.figure.Figure at 0xafe0feec>"
       ]
      }
     ],
     "prompt_number": 47
    },
    {
     "cell_type": "markdown",
     "metadata": {},
     "source": [
      "#Poisson Distribution"
     ]
    },
    {
     "cell_type": "code",
     "collapsed": false,
     "input": [
      "mu = .6\n",
      "mean, var, skew, kurt = ss.poisson.stats(mu, moments='mvsk')"
     ],
     "language": "python",
     "metadata": {},
     "outputs": [],
     "prompt_number": 50
    },
    {
     "cell_type": "code",
     "collapsed": false,
     "input": [
      "x =range(10)\n",
      "plt.plot(x, ss.poisson.pmf(x, mu))"
     ],
     "language": "python",
     "metadata": {},
     "outputs": [
      {
       "metadata": {},
       "output_type": "pyout",
       "prompt_number": 55,
       "text": [
        "[<matplotlib.lines.Line2D at 0xafd1082c>]"
       ]
      },
      {
       "metadata": {},
       "output_type": "display_data",
       "png": "[encoded data removed]",
       "text": [
        "<matplotlib.figure.Figure at 0xafd6432c>"
       ]
      }
     ],
     "prompt_number": 55
    },
    {
     "cell_type": "code",
     "collapsed": false,
     "input": [
      "plt.plot(x, ss.poisson.cdf(x, mu))"
     ],
     "language": "python",
     "metadata": {},
     "outputs": [
      {
       "metadata": {},
       "output_type": "pyout",
       "prompt_number": 54,
       "text": [
        "[<matplotlib.lines.Line2D at 0xafd5e7ac>]"
       ]
      },
      {
       "metadata": {},
       "output_type": "display_data",
       "png": "[encoded data removed]",
       "text": [
        "<matplotlib.figure.Figure at 0xafdb41cc>"
       ]
      }
     ],
     "prompt_number": 54
    },
    {
     "cell_type": "code",
     "collapsed": false,
     "input": [
      "r = ss.poisson.rvs(mu, size=1000)\n",
      "plt.boxplot(r, vert=False)"
     ],
     "language": "python",
     "metadata": {},
     "outputs": [
      {
       "metadata": {},
       "output_type": "pyout",
       "prompt_number": 56,
       "text": [
        "{'whiskers': [<matplotlib.lines.Line2D at 0xafcc55ac>,\n",
        "  <matplotlib.lines.Line2D at 0xafcc5a0c>],\n",
        " 'fliers': [<matplotlib.lines.Line2D at 0xafccc78c>,\n",
        "  <matplotlib.lines.Line2D at 0xafcceb0c>],\n",
        " 'medians': [<matplotlib.lines.Line2D at 0xafccc9cc>],\n",
        " 'caps': [<matplotlib.lines.Line2D at 0xafcc8c4c>,\n",
        "  <matplotlib.lines.Line2D at 0xafcc8eac>],\n",
        " 'boxes': [<matplotlib.lines.Line2D at 0xafcc9fec>]}"
       ]
      },
      {
       "metadata": {},
       "output_type": "display_data",
       "png": "[encoded data removed]",
       "text": [
        "<matplotlib.figure.Figure at 0xafd18b2c>"
       ]
      }
     ],
     "prompt_number": 56
    },
    {
     "cell_type": "markdown",
     "metadata": {},
     "source": [
      "#Binomial distribution"
     ]
    },
    {
     "cell_type": "code",
     "collapsed": false,
     "input": [
      "n = 5\n",
      "p = .4\n",
      "mean, var, skew, kurt = ss.binom.stats(n, p, moments='mvsk')\n",
      "[mean, var, skew, kurt]"
     ],
     "language": "python",
     "metadata": {},
     "outputs": [
      {
       "metadata": {},
       "output_type": "pyout",
       "prompt_number": 24,
       "text": [
        "[array(2.0),\n",
        " array(1.2),\n",
        " array(0.18257418583505533),\n",
        " array(-0.3666666666666668)]"
       ]
      }
     ],
     "prompt_number": 24
    },
    {
     "cell_type": "code",
     "collapsed": false,
     "input": [
      "x = np.arange(10)\n",
      "plt.plot(x, ss.binom.pmf(x, n, p))"
     ],
     "language": "python",
     "metadata": {},
     "outputs": [
      {
       "metadata": {},
       "output_type": "pyout",
       "prompt_number": 25,
       "text": [
        "[<matplotlib.lines.Line2D at 0xaf19906c>]"
       ]
      },
      {
       "metadata": {},
       "output_type": "display_data",
       "png": "[encoded data removed]",
       "text": [
        "<matplotlib.figure.Figure at 0xaf3ccd4c>"
       ]
      }
     ],
     "prompt_number": 25
    },
    {
     "cell_type": "code",
     "collapsed": false,
     "input": [
      "plt.plot(x, ss.binom.cdf(x, n, p))"
     ],
     "language": "python",
     "metadata": {},
     "outputs": [
      {
       "metadata": {},
       "output_type": "pyout",
       "prompt_number": 26,
       "text": [
        "[<matplotlib.lines.Line2D at 0xaf1cb48c>]"
       ]
      },
      {
       "metadata": {},
       "output_type": "display_data",
       "png": "[encoded data removed]",
       "text": [
        "<matplotlib.figure.Figure at 0xaf1a084c>"
       ]
      }
     ],
     "prompt_number": 26
    },
    {
     "cell_type": "code",
     "collapsed": false,
     "input": [
      "r = ss.binom.rvs(n, p, size=1000)\n",
      "plt.boxplot(r, vert=False)"
     ],
     "language": "python",
     "metadata": {},
     "outputs": [
      {
       "metadata": {},
       "output_type": "pyout",
       "prompt_number": 27,
       "text": [
        "{'medians': [<matplotlib.lines.Line2D at 0xaf1854ac>],\n",
        " 'fliers': [<matplotlib.lines.Line2D at 0xaf185c4c>,\n",
        "  <matplotlib.lines.Line2D at 0xaf18760c>],\n",
        " 'whiskers': [<matplotlib.lines.Line2D at 0xaf17e08c>,\n",
        "  <matplotlib.lines.Line2D at 0xaf17eb4c>],\n",
        " 'caps': [<matplotlib.lines.Line2D at 0xaf18072c>,\n",
        "  <matplotlib.lines.Line2D at 0xaf180eec>],\n",
        " 'boxes': [<matplotlib.lines.Line2D at 0xaf183acc>]}"
       ]
      },
      {
       "metadata": {},
       "output_type": "display_data",
       "png": "[encoded data removed]",
       "text": [
        "<matplotlib.figure.Figure at 0xaf1d314c>"
       ]
      }
     ],
     "prompt_number": 27
    },
    {
     "cell_type": "markdown",
     "metadata": {},
     "source": [
      "#Negative binomial distribution"
     ]
    },
    {
     "cell_type": "code",
     "collapsed": false,
     "input": [
      "n = 4\n",
      "p = .4\n",
      "mean, var, skew, kurt = ss.nbinom.stats(n, p, moments='mvsk')\n",
      "[mean, var, skew, kurt]"
     ],
     "language": "python",
     "metadata": {},
     "outputs": [
      {
       "metadata": {},
       "output_type": "pyout",
       "prompt_number": 28,
       "text": [
        "[array(6.0), array(15.0), array(1.0327955589886444), array(1.5666666666666667)]"
       ]
      }
     ],
     "prompt_number": 28
    },
    {
     "cell_type": "code",
     "collapsed": false,
     "input": [
      "x=range(20)\n",
      "plt.plot(x, ss.nbinom.pmf(x, n, p))"
     ],
     "language": "python",
     "metadata": {},
     "outputs": [
      {
       "metadata": {},
       "output_type": "pyout",
       "prompt_number": 38,
       "text": [
        "[<matplotlib.lines.Line2D at 0xaf0298cc>]"
       ]
      },
      {
       "metadata": {},
       "output_type": "display_data",
       "png": "[encoded data removed]",
       "text": [
        "<matplotlib.figure.Figure at 0xaf05e10c>"
       ]
      }
     ],
     "prompt_number": 38
    },
    {
     "cell_type": "code",
     "collapsed": false,
     "input": [
      "plt.plot(x, ss.nbinom.cdf(x, n, p))"
     ],
     "language": "python",
     "metadata": {},
     "outputs": [
      {
       "metadata": {},
       "output_type": "pyout",
       "prompt_number": 39,
       "text": [
        "[<matplotlib.lines.Line2D at 0xaefd750c>]"
       ]
      },
      {
       "metadata": {},
       "output_type": "display_data",
       "png": "[encoded data removed]",
       "text": [
        "<matplotlib.figure.Figure at 0xaf09632c>"
       ]
      }
     ],
     "prompt_number": 39
    },
    {
     "cell_type": "code",
     "collapsed": false,
     "input": [
      "r = ss.nbinom.rvs(n, p, size=1000)\n",
      "plt.boxplot(r, vert=False)"
     ],
     "language": "python",
     "metadata": {},
     "outputs": [
      {
       "metadata": {},
       "output_type": "pyout",
       "prompt_number": 40,
       "text": [
        "{'medians': [<matplotlib.lines.Line2D at 0xaf009fcc>],\n",
        " 'fliers': [<matplotlib.lines.Line2D at 0xaf009d8c>,\n",
        "  <matplotlib.lines.Line2D at 0xaf00ac4c>],\n",
        " 'whiskers': [<matplotlib.lines.Line2D at 0xaf003bac>,\n",
        "  <matplotlib.lines.Line2D at 0xaf00468c>],\n",
        " 'caps': [<matplotlib.lines.Line2D at 0xaf00826c>,\n",
        "  <matplotlib.lines.Line2D at 0xaf008a2c>],\n",
        " 'boxes': [<matplotlib.lines.Line2D at 0xaf00960c>]}"
       ]
      },
      {
       "metadata": {},
       "output_type": "display_data",
       "png": "[encoded data removed]",
       "text": [
        "<matplotlib.figure.Figure at 0xaf04168c>"
       ]
      }
     ],
     "prompt_number": 40
    },
    {
     "cell_type": "markdown",
     "metadata": {},
     "source": [
      "#Normal Distribution"
     ]
    },
    {
     "cell_type": "code",
     "collapsed": false,
     "input": [
      "mu = 5\n",
      "var = 2\n",
      "mean, var, skew, kurt = ss.norm.stats(mu, var, moments='mvsk')\n",
      "[mean, var, skew, kurt]"
     ],
     "language": "python",
     "metadata": {},
     "outputs": [
      {
       "metadata": {},
       "output_type": "pyout",
       "prompt_number": 56,
       "text": [
        "[array(5.0), array(4.0), array(0.0), array(0.0)]"
       ]
      }
     ],
     "prompt_number": 56
    },
    {
     "cell_type": "code",
     "collapsed": false,
     "input": [
      "x = np.linspace(ss.norm.ppf(.01, loc=mu, scale=var), ss.norm.ppf(.99, loc=mu, scale=var), 100)\n",
      "plt.plot(x, ss.norm.pdf(x, loc=mu, scale=var))"
     ],
     "language": "python",
     "metadata": {},
     "outputs": [
      {
       "metadata": {},
       "output_type": "pyout",
       "prompt_number": 57,
       "text": [
        "[<matplotlib.lines.Line2D at 0xaee1a1cc>]"
       ]
      },
      {
       "metadata": {},
       "output_type": "display_data",
       "png": "[encoded data removed]",
       "text": [
        "<matplotlib.figure.Figure at 0xaef1452c>"
       ]
      }
     ],
     "prompt_number": 57
    },
    {
     "cell_type": "code",
     "collapsed": false,
     "input": [
      "plt.plot(x, ss.norm.cdf(x, loc=mu, scale=var))"
     ],
     "language": "python",
     "metadata": {},
     "outputs": [
      {
       "metadata": {},
       "output_type": "pyout",
       "prompt_number": 58,
       "text": [
        "[<matplotlib.lines.Line2D at 0xaee4736c>]"
       ]
      },
      {
       "metadata": {},
       "output_type": "display_data",
       "png": "[encoded data removed]",
       "text": [
        "<matplotlib.figure.Figure at 0xaee9514c>"
       ]
      }
     ],
     "prompt_number": 58
    },
    {
     "cell_type": "code",
     "collapsed": false,
     "input": [
      "r = ss.norm.rvs(size=1000, loc=mu, scale=var)\n",
      "plt.boxplot(r, vert=False)"
     ],
     "language": "python",
     "metadata": {},
     "outputs": [
      {
       "metadata": {},
       "output_type": "pyout",
       "prompt_number": 59,
       "text": [
        "{'medians': [<matplotlib.lines.Line2D at 0xaedf9fec>],\n",
        " 'fliers': [<matplotlib.lines.Line2D at 0xaedf9dac>,\n",
        "  <matplotlib.lines.Line2D at 0xaedfcc6c>],\n",
        " 'whiskers': [<matplotlib.lines.Line2D at 0xaedf4c0c>,\n",
        "  <matplotlib.lines.Line2D at 0xaedf66ac>],\n",
        " 'caps': [<matplotlib.lines.Line2D at 0xaedf828c>,\n",
        "  <matplotlib.lines.Line2D at 0xaedf8a4c>],\n",
        " 'boxes': [<matplotlib.lines.Line2D at 0xaedf962c>]}"
       ]
      },
      {
       "metadata": {},
       "output_type": "display_data",
       "png": "[encoded data removed]",
       "text": [
        "<matplotlib.figure.Figure at 0xaee23b2c>"
       ]
      }
     ],
     "prompt_number": 59
    },
    {
     "cell_type": "code",
     "collapsed": false,
     "input": [],
     "language": "python",
     "metadata": {},
     "outputs": []
    }
   ],
   "metadata": {}
  }
 ]
}